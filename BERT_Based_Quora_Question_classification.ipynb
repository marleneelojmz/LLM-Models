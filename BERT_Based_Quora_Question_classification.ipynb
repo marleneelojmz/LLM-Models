{
  "nbformat": 4,
  "nbformat_minor": 0,
  "metadata": {
    "colab": {
      "provenance": [],
      "gpuType": "T4"
    },
    "kernelspec": {
      "name": "python3",
      "display_name": "Python 3"
    },
    "language_info": {
      "name": "python"
    },
    "accelerator": "GPU"
  },
  "cells": [
    {
      "cell_type": "markdown",
      "source": [
        "#THE QUORA DATASET#\n",
        "\n",
        "The Quora Insincere Questions Classification task revolves around identifying and categorizing inappropriate or insincere questions on the Quora platform. Quora, a popular Q&A website, hosts diverse discussions, but not all questions are genuine. Some may be disrespectful, offensive, or intended to provoke. The aim here is to create a machine learning model that can automatically label and distinguish such insincere questions"
      ],
      "metadata": {
        "id": "UemwfZRj8tBj"
      }
    },
    {
      "cell_type": "markdown",
      "source": [
        "The dataset provided for this task comprises questions sourced from Quora, labeled as either \"insincere\" or \"sincere.\" Insincere questions are those that exhibit characteristics of being disrespectful, offensive, or lacking genuine intent. On the other hand, sincere questions are those that are posed with the intention of seeking information or understanding.\n",
        "\n",
        "This dataset includes text data representing the questions, alongside binary labels indicating whether each question is insincere or sincere. It follows the familiar pattern of supervised machine learning, where the objective is to train a model to discern patterns and features from the text that differentiate between sincere and insincere questions."
      ],
      "metadata": {
        "id": "cZjo0gtS9GJA"
      }
    },
    {
      "cell_type": "markdown",
      "source": [
        "## 1. Importing Libraries"
      ],
      "metadata": {
        "id": "mMGE3G_c9KAp"
      }
    },
    {
      "cell_type": "code",
      "source": [
        "!pip install --upgrade protobuf\n",
        "!pip install -U \"tensorflow-text==2.11.*\""
      ],
      "metadata": {
        "id": "zHGefKQW9W_D"
      },
      "execution_count": null,
      "outputs": []
    },
    {
      "cell_type": "code",
      "execution_count": 1,
      "metadata": {
        "id": "vDc3_spk8nBs"
      },
      "outputs": [],
      "source": [
        "import numpy as np\n",
        "import pandas as pd\n",
        "import warnings\n",
        "warnings.filterwarnings(\"ignore\")\n",
        "import matplotlib.pyplot as plt\n",
        "import tensorflow as tf\n",
        "import tensorflow_hub as hub\n",
        "import tensorflow_text as text\n",
        "from sklearn.model_selection import train_test_split\n",
        "from imblearn.under_sampling import RandomUnderSampler\n",
        "import seaborn as sns\n",
        "%matplotlib inline"
      ]
    },
    {
      "cell_type": "markdown",
      "source": [
        "## 2. Data Ingestion"
      ],
      "metadata": {
        "id": "MgxkKOfu-DQV"
      }
    },
    {
      "cell_type": "code",
      "source": [
        "df = pd.read_csv(\"https://archive.org/download/fine-tune-bert-tensorflow-train.csv/train.csv.zip\",\n",
        "                 compression='zip', low_memory=False)\n",
        "df.shape"
      ],
      "metadata": {
        "colab": {
          "base_uri": "https://localhost:8080/"
        },
        "id": "0BMGUG2Z-CC3",
        "outputId": "82ba21c2-bc5c-4fba-d907-ec4febaa5a06"
      },
      "execution_count": 2,
      "outputs": [
        {
          "output_type": "execute_result",
          "data": {
            "text/plain": [
              "(1306122, 3)"
            ]
          },
          "metadata": {},
          "execution_count": 2
        }
      ]
    },
    {
      "cell_type": "code",
      "source": [
        "df.tail()"
      ],
      "metadata": {
        "colab": {
          "base_uri": "https://localhost:8080/",
          "height": 206
        },
        "id": "GNeMPAvf-eWq",
        "outputId": "353bc3a9-8b65-4781-f853-42ec1cd0c658"
      },
      "execution_count": 4,
      "outputs": [
        {
          "output_type": "execute_result",
          "data": {
            "text/plain": [
              "                          qid  \\\n",
              "1306117  ffffcc4e2331aaf1e41e   \n",
              "1306118  ffffd431801e5a2f4861   \n",
              "1306119  ffffd48fb36b63db010c   \n",
              "1306120  ffffec519fa37cf60c78   \n",
              "1306121  ffffed09fedb5088744a   \n",
              "\n",
              "                                             question_text  target  \n",
              "1306117  What other technical skills do you need as a c...       0  \n",
              "1306118  Does MS in ECE have good job prospects in USA ...       0  \n",
              "1306119                          Is foam insulation toxic?       0  \n",
              "1306120  How can one start a research project based on ...       0  \n",
              "1306121  Who wins in a battle between a Wolverine and a...       0  "
            ],
            "text/html": [
              "\n",
              "  <div id=\"df-ffdbfa42-7f42-4b54-a7ae-6c346647a9cc\" class=\"colab-df-container\">\n",
              "    <div>\n",
              "<style scoped>\n",
              "    .dataframe tbody tr th:only-of-type {\n",
              "        vertical-align: middle;\n",
              "    }\n",
              "\n",
              "    .dataframe tbody tr th {\n",
              "        vertical-align: top;\n",
              "    }\n",
              "\n",
              "    .dataframe thead th {\n",
              "        text-align: right;\n",
              "    }\n",
              "</style>\n",
              "<table border=\"1\" class=\"dataframe\">\n",
              "  <thead>\n",
              "    <tr style=\"text-align: right;\">\n",
              "      <th></th>\n",
              "      <th>qid</th>\n",
              "      <th>question_text</th>\n",
              "      <th>target</th>\n",
              "    </tr>\n",
              "  </thead>\n",
              "  <tbody>\n",
              "    <tr>\n",
              "      <th>1306117</th>\n",
              "      <td>ffffcc4e2331aaf1e41e</td>\n",
              "      <td>What other technical skills do you need as a c...</td>\n",
              "      <td>0</td>\n",
              "    </tr>\n",
              "    <tr>\n",
              "      <th>1306118</th>\n",
              "      <td>ffffd431801e5a2f4861</td>\n",
              "      <td>Does MS in ECE have good job prospects in USA ...</td>\n",
              "      <td>0</td>\n",
              "    </tr>\n",
              "    <tr>\n",
              "      <th>1306119</th>\n",
              "      <td>ffffd48fb36b63db010c</td>\n",
              "      <td>Is foam insulation toxic?</td>\n",
              "      <td>0</td>\n",
              "    </tr>\n",
              "    <tr>\n",
              "      <th>1306120</th>\n",
              "      <td>ffffec519fa37cf60c78</td>\n",
              "      <td>How can one start a research project based on ...</td>\n",
              "      <td>0</td>\n",
              "    </tr>\n",
              "    <tr>\n",
              "      <th>1306121</th>\n",
              "      <td>ffffed09fedb5088744a</td>\n",
              "      <td>Who wins in a battle between a Wolverine and a...</td>\n",
              "      <td>0</td>\n",
              "    </tr>\n",
              "  </tbody>\n",
              "</table>\n",
              "</div>\n",
              "    <div class=\"colab-df-buttons\">\n",
              "\n",
              "  <div class=\"colab-df-container\">\n",
              "    <button class=\"colab-df-convert\" onclick=\"convertToInteractive('df-ffdbfa42-7f42-4b54-a7ae-6c346647a9cc')\"\n",
              "            title=\"Convert this dataframe to an interactive table.\"\n",
              "            style=\"display:none;\">\n",
              "\n",
              "  <svg xmlns=\"http://www.w3.org/2000/svg\" height=\"24px\" viewBox=\"0 -960 960 960\">\n",
              "    <path d=\"M120-120v-720h720v720H120Zm60-500h600v-160H180v160Zm220 220h160v-160H400v160Zm0 220h160v-160H400v160ZM180-400h160v-160H180v160Zm440 0h160v-160H620v160ZM180-180h160v-160H180v160Zm440 0h160v-160H620v160Z\"/>\n",
              "  </svg>\n",
              "    </button>\n",
              "\n",
              "  <style>\n",
              "    .colab-df-container {\n",
              "      display:flex;\n",
              "      gap: 12px;\n",
              "    }\n",
              "\n",
              "    .colab-df-convert {\n",
              "      background-color: #E8F0FE;\n",
              "      border: none;\n",
              "      border-radius: 50%;\n",
              "      cursor: pointer;\n",
              "      display: none;\n",
              "      fill: #1967D2;\n",
              "      height: 32px;\n",
              "      padding: 0 0 0 0;\n",
              "      width: 32px;\n",
              "    }\n",
              "\n",
              "    .colab-df-convert:hover {\n",
              "      background-color: #E2EBFA;\n",
              "      box-shadow: 0px 1px 2px rgba(60, 64, 67, 0.3), 0px 1px 3px 1px rgba(60, 64, 67, 0.15);\n",
              "      fill: #174EA6;\n",
              "    }\n",
              "\n",
              "    .colab-df-buttons div {\n",
              "      margin-bottom: 4px;\n",
              "    }\n",
              "\n",
              "    [theme=dark] .colab-df-convert {\n",
              "      background-color: #3B4455;\n",
              "      fill: #D2E3FC;\n",
              "    }\n",
              "\n",
              "    [theme=dark] .colab-df-convert:hover {\n",
              "      background-color: #434B5C;\n",
              "      box-shadow: 0px 1px 3px 1px rgba(0, 0, 0, 0.15);\n",
              "      filter: drop-shadow(0px 1px 2px rgba(0, 0, 0, 0.3));\n",
              "      fill: #FFFFFF;\n",
              "    }\n",
              "  </style>\n",
              "\n",
              "    <script>\n",
              "      const buttonEl =\n",
              "        document.querySelector('#df-ffdbfa42-7f42-4b54-a7ae-6c346647a9cc button.colab-df-convert');\n",
              "      buttonEl.style.display =\n",
              "        google.colab.kernel.accessAllowed ? 'block' : 'none';\n",
              "\n",
              "      async function convertToInteractive(key) {\n",
              "        const element = document.querySelector('#df-ffdbfa42-7f42-4b54-a7ae-6c346647a9cc');\n",
              "        const dataTable =\n",
              "          await google.colab.kernel.invokeFunction('convertToInteractive',\n",
              "                                                    [key], {});\n",
              "        if (!dataTable) return;\n",
              "\n",
              "        const docLinkHtml = 'Like what you see? Visit the ' +\n",
              "          '<a target=\"_blank\" href=https://colab.research.google.com/notebooks/data_table.ipynb>data table notebook</a>'\n",
              "          + ' to learn more about interactive tables.';\n",
              "        element.innerHTML = '';\n",
              "        dataTable['output_type'] = 'display_data';\n",
              "        await google.colab.output.renderOutput(dataTable, element);\n",
              "        const docLink = document.createElement('div');\n",
              "        docLink.innerHTML = docLinkHtml;\n",
              "        element.appendChild(docLink);\n",
              "      }\n",
              "    </script>\n",
              "  </div>\n",
              "\n",
              "\n",
              "<div id=\"df-2c0a23a1-97ae-4977-88ab-30b4ce623327\">\n",
              "  <button class=\"colab-df-quickchart\" onclick=\"quickchart('df-2c0a23a1-97ae-4977-88ab-30b4ce623327')\"\n",
              "            title=\"Suggest charts.\"\n",
              "            style=\"display:none;\">\n",
              "\n",
              "<svg xmlns=\"http://www.w3.org/2000/svg\" height=\"24px\"viewBox=\"0 0 24 24\"\n",
              "     width=\"24px\">\n",
              "    <g>\n",
              "        <path d=\"M19 3H5c-1.1 0-2 .9-2 2v14c0 1.1.9 2 2 2h14c1.1 0 2-.9 2-2V5c0-1.1-.9-2-2-2zM9 17H7v-7h2v7zm4 0h-2V7h2v10zm4 0h-2v-4h2v4z\"/>\n",
              "    </g>\n",
              "</svg>\n",
              "  </button>\n",
              "\n",
              "<style>\n",
              "  .colab-df-quickchart {\n",
              "    background-color: #E8F0FE;\n",
              "    border: none;\n",
              "    border-radius: 50%;\n",
              "    cursor: pointer;\n",
              "    display: none;\n",
              "    fill: #1967D2;\n",
              "    height: 32px;\n",
              "    padding: 0 0 0 0;\n",
              "    width: 32px;\n",
              "  }\n",
              "\n",
              "  .colab-df-quickchart:hover {\n",
              "    background-color: #E2EBFA;\n",
              "    box-shadow: 0px 1px 2px rgba(60, 64, 67, 0.3), 0px 1px 3px 1px rgba(60, 64, 67, 0.15);\n",
              "    fill: #174EA6;\n",
              "  }\n",
              "\n",
              "  [theme=dark] .colab-df-quickchart {\n",
              "    background-color: #3B4455;\n",
              "    fill: #D2E3FC;\n",
              "  }\n",
              "\n",
              "  [theme=dark] .colab-df-quickchart:hover {\n",
              "    background-color: #434B5C;\n",
              "    box-shadow: 0px 1px 3px 1px rgba(0, 0, 0, 0.15);\n",
              "    filter: drop-shadow(0px 1px 2px rgba(0, 0, 0, 0.3));\n",
              "    fill: #FFFFFF;\n",
              "  }\n",
              "</style>\n",
              "\n",
              "  <script>\n",
              "    async function quickchart(key) {\n",
              "      const charts = await google.colab.kernel.invokeFunction(\n",
              "          'suggestCharts', [key], {});\n",
              "    }\n",
              "    (() => {\n",
              "      let quickchartButtonEl =\n",
              "        document.querySelector('#df-2c0a23a1-97ae-4977-88ab-30b4ce623327 button');\n",
              "      quickchartButtonEl.style.display =\n",
              "        google.colab.kernel.accessAllowed ? 'block' : 'none';\n",
              "    })();\n",
              "  </script>\n",
              "</div>\n",
              "    </div>\n",
              "  </div>\n"
            ]
          },
          "metadata": {},
          "execution_count": 4
        }
      ]
    },
    {
      "cell_type": "code",
      "source": [
        "#analysin the distribution of the target variable\n",
        "\n",
        "df.target.plot(kind='hist', title='Target distribution')"
      ],
      "metadata": {
        "colab": {
          "base_uri": "https://localhost:8080/",
          "height": 470
        },
        "id": "z9kRY46d-fR-",
        "outputId": "1fced789-70c4-4817-d221-d028a229c7fc"
      },
      "execution_count": 5,
      "outputs": [
        {
          "output_type": "execute_result",
          "data": {
            "text/plain": [
              "<Axes: title={'center': 'Target distribution'}, ylabel='Frequency'>"
            ]
          },
          "metadata": {},
          "execution_count": 5
        },
        {
          "output_type": "display_data",
          "data": {
            "text/plain": [
              "<Figure size 640x480 with 1 Axes>"
            ],
            "image/png": "[encoded data removed]"
          },
          "metadata": {}
        }
      ]
    },
    {
      "cell_type": "code",
      "source": [
        "#lets see some insincere questions\n",
        "df[df.target==1][:10].question_text.to_list()\n"
      ],
      "metadata": {
        "colab": {
          "base_uri": "https://localhost:8080/"
        },
        "id": "juItXnbT-8xN",
        "outputId": "1eafd9f8-4677-4552-bce4-b11a3ffc2f4c"
      },
      "execution_count": 7,
      "outputs": [
        {
          "output_type": "execute_result",
          "data": {
            "text/plain": [
              "['Has the United States become the largest dictatorship in the world?',\n",
              " 'Which babies are more sweeter to their parents? Dark skin babies or light skin babies?',\n",
              " \"If blacks support school choice and mandatory sentencing for criminals why don't they vote Republican?\",\n",
              " 'I am gay boy and I love my cousin (boy). He is sexy, but I dont know what to do. He is hot, and I want to see his di**. What should I do?',\n",
              " 'Which races have the smallest penis?',\n",
              " 'Why do females find penises ugly?',\n",
              " 'How do I marry an American woman for a Green Card? How much do they charge?',\n",
              " \"Why do Europeans say they're the superior race, when in fact it took them over 2,000 years until mid 19th century to surpass China's largest economy?\",\n",
              " 'Did Julius Caesar bring a tyrannosaurus rex on his campaigns to frighten the Celts into submission?',\n",
              " \"In what manner has Republican backing of 'states rights' been hypocritical and what ways have they actually restricted the ability of states to make their own laws?\"]"
            ]
          },
          "metadata": {},
          "execution_count": 7
        }
      ]
    },
    {
      "cell_type": "code",
      "source": [
        "#lets see some insincere questions\n",
        "df[df.target==0][:10].question_text.to_list()"
      ],
      "metadata": {
        "colab": {
          "base_uri": "https://localhost:8080/"
        },
        "id": "Z0oJME3b_L4V",
        "outputId": "e6485152-0464-4e05-9bf1-b5c45cd412b6"
      },
      "execution_count": 8,
      "outputs": [
        {
          "output_type": "execute_result",
          "data": {
            "text/plain": [
              "['How did Quebec nationalists see their province as a nation in the 1960s?',\n",
              " 'Do you have an adopted dog, how would you encourage people to adopt and not shop?',\n",
              " 'Why does velocity affect time? Does velocity affect space geometry?',\n",
              " 'How did Otto von Guericke used the Magdeburg hemispheres?',\n",
              " 'Can I convert montra helicon D to a mountain bike by just changing the tyres?',\n",
              " 'Is Gaza slowly becoming Auschwitz, Dachau or Treblinka for Palestinians?',\n",
              " 'Why does Quora automatically ban conservative opinions when reported, but does not do the same for liberal views?',\n",
              " 'Is it crazy if I wash or wipe my groceries off? Germs are everywhere.',\n",
              " 'Is there such a thing as dressing moderately, and if so, how is that different than dressing modestly?',\n",
              " 'Is it just me or have you ever been in this phase wherein you became ignorant to the people you once loved, completely disregarding their feelings/lives so you get to have something go your way and feel temporarily at ease. How did things change?']"
            ]
          },
          "metadata": {},
          "execution_count": 8
        }
      ]
    },
    {
      "cell_type": "markdown",
      "source": [
        "## 3. Splitting Data for train/test/validation"
      ],
      "metadata": {
        "id": "aintklgQ-yCc"
      }
    },
    {
      "cell_type": "code",
      "source": [
        "#Undersampling data\n",
        "\n",
        "X = np.array(df.question_text).reshape(-1, 1)\n",
        "y = np.array(df.target)"
      ],
      "metadata": {
        "id": "BNHrESBc-uIt"
      },
      "execution_count": 9,
      "outputs": []
    },
    {
      "cell_type": "code",
      "source": [
        "# RandomUnderSampler : Under-sample the majority class(es) by randomly\n",
        "# picking samples with or without replacement\n",
        "rus = RandomUnderSampler(random_state=0)\n",
        "\n",
        "x_resampled, y_resampled = rus.fit_resample(X,y)\n",
        "\n",
        "data  = {\n",
        "    'question_text':np.squeeze(x_resampled),\n",
        "    'target': y_resampled\n",
        "}\n",
        "\n",
        "X_resampled = pd.DataFrame(data)\n",
        "\n",
        "X_resampled.shape"
      ],
      "metadata": {
        "colab": {
          "base_uri": "https://localhost:8080/"
        },
        "id": "z32dnhrIA2Yr",
        "outputId": "dd9e3691-e40c-4380-ef47-6d0c10fe9896"
      },
      "execution_count": 25,
      "outputs": [
        {
          "output_type": "execute_result",
          "data": {
            "text/plain": [
              "(161620, 2)"
            ]
          },
          "metadata": {},
          "execution_count": 25
        }
      ]
    },
    {
      "cell_type": "code",
      "source": [
        "X_resampled.tail(20)"
      ],
      "metadata": {
        "colab": {
          "base_uri": "https://localhost:8080/",
          "height": 676
        },
        "id": "XmrG_IXVA_Cc",
        "outputId": "b9fdb7eb-19b5-46e2-9cfb-d0ceaa7aa0a4"
      },
      "execution_count": 26,
      "outputs": [
        {
          "output_type": "execute_result",
          "data": {
            "text/plain": [
              "                                            question_text  target\n",
              "161600               Do the Chinese people eat bath soap?       1\n",
              "161601  Does this Congress have blood on their hands f...       1\n",
              "161602                             Why are men selective?       1\n",
              "161603     Why do girls not prefer to become a physicist?       1\n",
              "161604  Why do the people from Kannur in Kerala adjust...       1\n",
              "161605  Why is there a trend for dresses to reveal the...       1\n",
              "161606  Should I give my child a panic button or peppe...       1\n",
              "161607  Is it true that hydrogen is a light, odorless ...       1\n",
              "161608                It is posible to kill 4months baby?       1\n",
              "161609  Is it a fact that the Europeans are the bigges...       1\n",
              "161610  What are not scam online services for essay wr...       1\n",
              "161611  Is it just me, or was Prince the singer ugly a...       1\n",
              "161612  Could we finally give Einstein's first wife cr...       1\n",
              "161613  Why do Jews want endless immigration to the US...       1\n",
              "161614  Will Oprah buy the DNC to guarantee her nomina...       1\n",
              "161615  How is it to have intimate relation with your ...       1\n",
              "161616  Why is it when singers have lyrics about voice...       1\n",
              "161617                  Do pakis smell of curry and shit?       1\n",
              "161618  Isn't Trump right after all? Why should the US...       1\n",
              "161619                Are you ashamed of being an Indian?       1"
            ],
            "text/html": [
              "\n",
              "  <div id=\"df-1dd6a562-742e-4a65-8f74-bba59c409300\" class=\"colab-df-container\">\n",
              "    <div>\n",
              "<style scoped>\n",
              "    .dataframe tbody tr th:only-of-type {\n",
              "        vertical-align: middle;\n",
              "    }\n",
              "\n",
              "    .dataframe tbody tr th {\n",
              "        vertical-align: top;\n",
              "    }\n",
              "\n",
              "    .dataframe thead th {\n",
              "        text-align: right;\n",
              "    }\n",
              "</style>\n",
              "<table border=\"1\" class=\"dataframe\">\n",
              "  <thead>\n",
              "    <tr style=\"text-align: right;\">\n",
              "      <th></th>\n",
              "      <th>question_text</th>\n",
              "      <th>target</th>\n",
              "    </tr>\n",
              "  </thead>\n",
              "  <tbody>\n",
              "    <tr>\n",
              "      <th>161600</th>\n",
              "      <td>Do the Chinese people eat bath soap?</td>\n",
              "      <td>1</td>\n",
              "    </tr>\n",
              "    <tr>\n",
              "      <th>161601</th>\n",
              "      <td>Does this Congress have blood on their hands f...</td>\n",
              "      <td>1</td>\n",
              "    </tr>\n",
              "    <tr>\n",
              "      <th>161602</th>\n",
              "      <td>Why are men selective?</td>\n",
              "      <td>1</td>\n",
              "    </tr>\n",
              "    <tr>\n",
              "      <th>161603</th>\n",
              "      <td>Why do girls not prefer to become a physicist?</td>\n",
              "      <td>1</td>\n",
              "    </tr>\n",
              "    <tr>\n",
              "      <th>161604</th>\n",
              "      <td>Why do the people from Kannur in Kerala adjust...</td>\n",
              "      <td>1</td>\n",
              "    </tr>\n",
              "    <tr>\n",
              "      <th>161605</th>\n",
              "      <td>Why is there a trend for dresses to reveal the...</td>\n",
              "      <td>1</td>\n",
              "    </tr>\n",
              "    <tr>\n",
              "      <th>161606</th>\n",
              "      <td>Should I give my child a panic button or peppe...</td>\n",
              "      <td>1</td>\n",
              "    </tr>\n",
              "    <tr>\n",
              "      <th>161607</th>\n",
              "      <td>Is it true that hydrogen is a light, odorless ...</td>\n",
              "      <td>1</td>\n",
              "    </tr>\n",
              "    <tr>\n",
              "      <th>161608</th>\n",
              "      <td>It is posible to kill 4months baby?</td>\n",
              "      <td>1</td>\n",
              "    </tr>\n",
              "    <tr>\n",
              "      <th>161609</th>\n",
              "      <td>Is it a fact that the Europeans are the bigges...</td>\n",
              "      <td>1</td>\n",
              "    </tr>\n",
              "    <tr>\n",
              "      <th>161610</th>\n",
              "      <td>What are not scam online services for essay wr...</td>\n",
              "      <td>1</td>\n",
              "    </tr>\n",
              "    <tr>\n",
              "      <th>161611</th>\n",
              "      <td>Is it just me, or was Prince the singer ugly a...</td>\n",
              "      <td>1</td>\n",
              "    </tr>\n",
              "    <tr>\n",
              "      <th>161612</th>\n",
              "      <td>Could we finally give Einstein's first wife cr...</td>\n",
              "      <td>1</td>\n",
              "    </tr>\n",
              "    <tr>\n",
              "      <th>161613</th>\n",
              "      <td>Why do Jews want endless immigration to the US...</td>\n",
              "      <td>1</td>\n",
              "    </tr>\n",
              "    <tr>\n",
              "      <th>161614</th>\n",
              "      <td>Will Oprah buy the DNC to guarantee her nomina...</td>\n",
              "      <td>1</td>\n",
              "    </tr>\n",
              "    <tr>\n",
              "      <th>161615</th>\n",
              "      <td>How is it to have intimate relation with your ...</td>\n",
              "      <td>1</td>\n",
              "    </tr>\n",
              "    <tr>\n",
              "      <th>161616</th>\n",
              "      <td>Why is it when singers have lyrics about voice...</td>\n",
              "      <td>1</td>\n",
              "    </tr>\n",
              "    <tr>\n",
              "      <th>161617</th>\n",
              "      <td>Do pakis smell of curry and shit?</td>\n",
              "      <td>1</td>\n",
              "    </tr>\n",
              "    <tr>\n",
              "      <th>161618</th>\n",
              "      <td>Isn't Trump right after all? Why should the US...</td>\n",
              "      <td>1</td>\n",
              "    </tr>\n",
              "    <tr>\n",
              "      <th>161619</th>\n",
              "      <td>Are you ashamed of being an Indian?</td>\n",
              "      <td>1</td>\n",
              "    </tr>\n",
              "  </tbody>\n",
              "</table>\n",
              "</div>\n",
              "    <div class=\"colab-df-buttons\">\n",
              "\n",
              "  <div class=\"colab-df-container\">\n",
              "    <button class=\"colab-df-convert\" onclick=\"convertToInteractive('df-1dd6a562-742e-4a65-8f74-bba59c409300')\"\n",
              "            title=\"Convert this dataframe to an interactive table.\"\n",
              "            style=\"display:none;\">\n",
              "\n",
              "  <svg xmlns=\"http://www.w3.org/2000/svg\" height=\"24px\" viewBox=\"0 -960 960 960\">\n",
              "    <path d=\"M120-120v-720h720v720H120Zm60-500h600v-160H180v160Zm220 220h160v-160H400v160Zm0 220h160v-160H400v160ZM180-400h160v-160H180v160Zm440 0h160v-160H620v160ZM180-180h160v-160H180v160Zm440 0h160v-160H620v160Z\"/>\n",
              "  </svg>\n",
              "    </button>\n",
              "\n",
              "  <style>\n",
              "    .colab-df-container {\n",
              "      display:flex;\n",
              "      gap: 12px;\n",
              "    }\n",
              "\n",
              "    .colab-df-convert {\n",
              "      background-color: #E8F0FE;\n",
              "      border: none;\n",
              "      border-radius: 50%;\n",
              "      cursor: pointer;\n",
              "      display: none;\n",
              "      fill: #1967D2;\n",
              "      height: 32px;\n",
              "      padding: 0 0 0 0;\n",
              "      width: 32px;\n",
              "    }\n",
              "\n",
              "    .colab-df-convert:hover {\n",
              "      background-color: #E2EBFA;\n",
              "      box-shadow: 0px 1px 2px rgba(60, 64, 67, 0.3), 0px 1px 3px 1px rgba(60, 64, 67, 0.15);\n",
              "      fill: #174EA6;\n",
              "    }\n",
              "\n",
              "    .colab-df-buttons div {\n",
              "      margin-bottom: 4px;\n",
              "    }\n",
              "\n",
              "    [theme=dark] .colab-df-convert {\n",
              "      background-color: #3B4455;\n",
              "      fill: #D2E3FC;\n",
              "    }\n",
              "\n",
              "    [theme=dark] .colab-df-convert:hover {\n",
              "      background-color: #434B5C;\n",
              "      box-shadow: 0px 1px 3px 1px rgba(0, 0, 0, 0.15);\n",
              "      filter: drop-shadow(0px 1px 2px rgba(0, 0, 0, 0.3));\n",
              "      fill: #FFFFFF;\n",
              "    }\n",
              "  </style>\n",
              "\n",
              "    <script>\n",
              "      const buttonEl =\n",
              "        document.querySelector('#df-1dd6a562-742e-4a65-8f74-bba59c409300 button.colab-df-convert');\n",
              "      buttonEl.style.display =\n",
              "        google.colab.kernel.accessAllowed ? 'block' : 'none';\n",
              "\n",
              "      async function convertToInteractive(key) {\n",
              "        const element = document.querySelector('#df-1dd6a562-742e-4a65-8f74-bba59c409300');\n",
              "        const dataTable =\n",
              "          await google.colab.kernel.invokeFunction('convertToInteractive',\n",
              "                                                    [key], {});\n",
              "        if (!dataTable) return;\n",
              "\n",
              "        const docLinkHtml = 'Like what you see? Visit the ' +\n",
              "          '<a target=\"_blank\" href=https://colab.research.google.com/notebooks/data_table.ipynb>data table notebook</a>'\n",
              "          + ' to learn more about interactive tables.';\n",
              "        element.innerHTML = '';\n",
              "        dataTable['output_type'] = 'display_data';\n",
              "        await google.colab.output.renderOutput(dataTable, element);\n",
              "        const docLink = document.createElement('div');\n",
              "        docLink.innerHTML = docLinkHtml;\n",
              "        element.appendChild(docLink);\n",
              "      }\n",
              "    </script>\n",
              "  </div>\n",
              "\n",
              "\n",
              "<div id=\"df-f4c2d0ff-7c60-475d-81b7-9a72d3ddaa77\">\n",
              "  <button class=\"colab-df-quickchart\" onclick=\"quickchart('df-f4c2d0ff-7c60-475d-81b7-9a72d3ddaa77')\"\n",
              "            title=\"Suggest charts.\"\n",
              "            style=\"display:none;\">\n",
              "\n",
              "<svg xmlns=\"http://www.w3.org/2000/svg\" height=\"24px\"viewBox=\"0 0 24 24\"\n",
              "     width=\"24px\">\n",
              "    <g>\n",
              "        <path d=\"M19 3H5c-1.1 0-2 .9-2 2v14c0 1.1.9 2 2 2h14c1.1 0 2-.9 2-2V5c0-1.1-.9-2-2-2zM9 17H7v-7h2v7zm4 0h-2V7h2v10zm4 0h-2v-4h2v4z\"/>\n",
              "    </g>\n",
              "</svg>\n",
              "  </button>\n",
              "\n",
              "<style>\n",
              "  .colab-df-quickchart {\n",
              "    background-color: #E8F0FE;\n",
              "    border: none;\n",
              "    border-radius: 50%;\n",
              "    cursor: pointer;\n",
              "    display: none;\n",
              "    fill: #1967D2;\n",
              "    height: 32px;\n",
              "    padding: 0 0 0 0;\n",
              "    width: 32px;\n",
              "  }\n",
              "\n",
              "  .colab-df-quickchart:hover {\n",
              "    background-color: #E2EBFA;\n",
              "    box-shadow: 0px 1px 2px rgba(60, 64, 67, 0.3), 0px 1px 3px 1px rgba(60, 64, 67, 0.15);\n",
              "    fill: #174EA6;\n",
              "  }\n",
              "\n",
              "  [theme=dark] .colab-df-quickchart {\n",
              "    background-color: #3B4455;\n",
              "    fill: #D2E3FC;\n",
              "  }\n",
              "\n",
              "  [theme=dark] .colab-df-quickchart:hover {\n",
              "    background-color: #434B5C;\n",
              "    box-shadow: 0px 1px 3px 1px rgba(0, 0, 0, 0.15);\n",
              "    filter: drop-shadow(0px 1px 2px rgba(0, 0, 0, 0.3));\n",
              "    fill: #FFFFFF;\n",
              "  }\n",
              "</style>\n",
              "\n",
              "  <script>\n",
              "    async function quickchart(key) {\n",
              "      const charts = await google.colab.kernel.invokeFunction(\n",
              "          'suggestCharts', [key], {});\n",
              "    }\n",
              "    (() => {\n",
              "      let quickchartButtonEl =\n",
              "        document.querySelector('#df-f4c2d0ff-7c60-475d-81b7-9a72d3ddaa77 button');\n",
              "      quickchartButtonEl.style.display =\n",
              "        google.colab.kernel.accessAllowed ? 'block' : 'none';\n",
              "    })();\n",
              "  </script>\n",
              "</div>\n",
              "    </div>\n",
              "  </div>\n"
            ]
          },
          "metadata": {},
          "execution_count": 26
        }
      ]
    },
    {
      "cell_type": "code",
      "source": [
        "X_resampled.target.plot(kind='hist', title='Target distribution')"
      ],
      "metadata": {
        "colab": {
          "base_uri": "https://localhost:8080/",
          "height": 470
        },
        "id": "fM1m3lCcBGCz",
        "outputId": "31610d2f-c89f-4fb7-a77e-5ebfe1606fba"
      },
      "execution_count": 27,
      "outputs": [
        {
          "output_type": "execute_result",
          "data": {
            "text/plain": [
              "<Axes: title={'center': 'Target distribution'}, ylabel='Frequency'>"
            ]
          },
          "metadata": {},
          "execution_count": 27
        },
        {
          "output_type": "display_data",
          "data": {
            "text/plain": [
              "<Figure size 640x480 with 1 Axes>"
            ],
            "image/png": "[encoded data removed]"
          },
          "metadata": {}
        }
      ]
    },
    {
      "cell_type": "markdown",
      "source": [
        "## 4. Cloning the BERT pretrained model from Tensorflow Hub"
      ],
      "metadata": {
        "id": "1Yk4sG20Bf67"
      }
    },
    {
      "cell_type": "code",
      "source": [
        "bert_preprocess = hub.KerasLayer('https://tfhub.dev/tensorflow/bert_en_uncased_preprocess/3')\n",
        "bert_encoder = hub.KerasLayer(\"https://tfhub.dev/tensorflow/bert_en_uncased_L-12_H-768_A-12/4\")"
      ],
      "metadata": {
        "id": "soGgp-eyBfOe"
      },
      "execution_count": 19,
      "outputs": []
    },
    {
      "cell_type": "code",
      "source": [
        "def get_sentence_embeding(sentences):\n",
        "    preprocessed_text = bert_preprocess(sentences)\n",
        "    return bert_encoder(preprocessed_text)['pooled_output']\n",
        "\n",
        "#Just we will choose some 2 examples to show the embedded output\n",
        "get_sentence_embeding([\n",
        "    \"Who hires biomolecular engineer?\",\n",
        "    \"Why do girls not prefer to become a physicist?\"]\n",
        ")"
      ],
      "metadata": {
        "colab": {
          "base_uri": "https://localhost:8080/"
        },
        "id": "W2inhX6TBXis",
        "outputId": "f97c0d01-0000-47a7-b7a0-bffb9468538b"
      },
      "execution_count": 23,
      "outputs": [
        {
          "output_type": "execute_result",
          "data": {
            "text/plain": [
              "<tf.Tensor: shape=(2, 768), dtype=float32, numpy=\n",
              "array([[-0.93710816, -0.5718563 , -0.9825792 , ..., -0.9577722 ,\n",
              "        -0.7495189 ,  0.9102026 ],\n",
              "       [-0.8906666 , -0.4644663 , -0.8586575 , ..., -0.69950897,\n",
              "        -0.734598  ,  0.9091555 ]], dtype=float32)>"
            ]
          },
          "metadata": {},
          "execution_count": 23
        }
      ]
    },
    {
      "cell_type": "markdown",
      "source": [
        "## 5. Splitting the data"
      ],
      "metadata": {
        "id": "vkJlFAqjDmtB"
      }
    },
    {
      "cell_type": "code",
      "source": [
        "X_train, X_test, y_train, y_test = train_test_split(X_resampled['question_text'],X_resampled['target'])\n",
        "X_test, X_valid, y_test, y_valid = train_test_split(X_test,y_test)"
      ],
      "metadata": {
        "id": "Ho2zixlFCvcb"
      },
      "execution_count": 28,
      "outputs": []
    },
    {
      "cell_type": "code",
      "source": [
        "print(f\"Number of examples for training: {X_train.shape}\")\n",
        "print(f\"Number of examples for testing: {X_test.shape}\")\n",
        "print(f\"Number of examples for validation: {X_valid.shape}\")"
      ],
      "metadata": {
        "colab": {
          "base_uri": "https://localhost:8080/"
        },
        "id": "iQDjxSpiDMyw",
        "outputId": "b1aa0020-6a7a-4546-e9f3-1fd2fdb3d156"
      },
      "execution_count": 29,
      "outputs": [
        {
          "output_type": "stream",
          "name": "stdout",
          "text": [
            "Number of examples for training: (121215,)\n",
            "Number of examples for testing: (30303,)\n",
            "Number of examples for validation: (10102,)\n"
          ]
        }
      ]
    },
    {
      "cell_type": "markdown",
      "source": [
        "## 6. Creating the model"
      ],
      "metadata": {
        "id": "NA_Cwyl6DpkO"
      }
    },
    {
      "cell_type": "code",
      "source": [
        "# BERT LAYERS\n",
        "# input layer for text\n",
        "text_input = tf.keras.layers.Input(shape=(), dtype=tf.string, name='text')\n",
        "# this layer preprocess the data according to the bert especifications (lower cased text and stride accents)\n",
        "preprocessed_text = bert_preprocess(text_input)\n",
        "# bert encoding layer (Tensorflow-Hub)\n",
        "outputs = bert_encoder(preprocessed_text)\n",
        "\n",
        "# Dense Block for Clasification\n",
        "l = tf.keras.layers.Dropout(0.1, name='dropout')(outputs['pooled_output'])\n",
        "l = tf.keras.layers.Dense(1, activation='sigmoid', name='output')(l)\n",
        "\n",
        "# Construct the final model using inputs and outputs\n",
        "model = tf.keras.Model(inputs=[text_input], outputs = [l])"
      ],
      "metadata": {
        "colab": {
          "base_uri": "https://localhost:8080/"
        },
        "id": "jkSeE1b8Dg4A",
        "outputId": "67e5e671-ee14-42ba-dcab-09886bbebffd"
      },
      "execution_count": 30,
      "outputs": [
        {
          "output_type": "stream",
          "name": "stderr",
          "text": [
            "WARNING:tensorflow:From /usr/local/lib/python3.10/dist-packages/tensorflow/python/autograph/pyct/static_analysis/liveness.py:83: Analyzer.lamba_check (from tensorflow.python.autograph.pyct.static_analysis.liveness) is deprecated and will be removed after 2023-09-23.\n",
            "Instructions for updating:\n",
            "Lambda fuctions will be no more assumed to be used in the statement where they are used, or at least in the same block. https://github.com/tensorflow/tensorflow/issues/56089\n"
          ]
        }
      ]
    },
    {
      "cell_type": "code",
      "source": [
        "model.summary()"
      ],
      "metadata": {
        "colab": {
          "base_uri": "https://localhost:8080/"
        },
        "id": "fbNP7KKLFFUt",
        "outputId": "18ee3936-e4a3-4a08-8efd-790bd38d7972"
      },
      "execution_count": 31,
      "outputs": [
        {
          "output_type": "stream",
          "name": "stdout",
          "text": [
            "Model: \"model\"\n",
            "__________________________________________________________________________________________________\n",
            " Layer (type)                   Output Shape         Param #     Connected to                     \n",
            "==================================================================================================\n",
            " text (InputLayer)              [(None,)]            0           []                               \n",
            "                                                                                                  \n",
            " keras_layer (KerasLayer)       {'input_word_ids':   0           ['text[0][0]']                   \n",
            "                                (None, 128),                                                      \n",
            "                                 'input_mask': (Non                                               \n",
            "                                e, 128),                                                          \n",
            "                                 'input_type_ids':                                                \n",
            "                                (None, 128)}                                                      \n",
            "                                                                                                  \n",
            " keras_layer_1 (KerasLayer)     {'sequence_output':  109482241   ['keras_layer[0][0]',            \n",
            "                                 (None, 128, 768),                'keras_layer[0][1]',            \n",
            "                                 'default': (None,                'keras_layer[0][2]']            \n",
            "                                768),                                                             \n",
            "                                 'pooled_output': (                                               \n",
            "                                None, 768),                                                       \n",
            "                                 'encoder_outputs':                                               \n",
            "                                 [(None, 128, 768),                                               \n",
            "                                 (None, 128, 768),                                                \n",
            "                                 (None, 128, 768),                                                \n",
            "                                 (None, 128, 768),                                                \n",
            "                                 (None, 128, 768),                                                \n",
            "                                 (None, 128, 768),                                                \n",
            "                                 (None, 128, 768),                                                \n",
            "                                 (None, 128, 768),                                                \n",
            "                                 (None, 128, 768),                                                \n",
            "                                 (None, 128, 768),                                                \n",
            "                                 (None, 128, 768),                                                \n",
            "                                 (None, 128, 768)]}                                               \n",
            "                                                                                                  \n",
            " dropout (Dropout)              (None, 768)          0           ['keras_layer_1[0][13]']         \n",
            "                                                                                                  \n",
            " output (Dense)                 (None, 1)            769         ['dropout[0][0]']                \n",
            "                                                                                                  \n",
            "==================================================================================================\n",
            "Total params: 109,483,010\n",
            "Trainable params: 769\n",
            "Non-trainable params: 109,482,241\n",
            "__________________________________________________________________________________________________\n"
          ]
        }
      ]
    },
    {
      "cell_type": "markdown",
      "source": [
        "## 7. Train the model"
      ],
      "metadata": {
        "id": "NnhsYZEpFTWr"
      }
    },
    {
      "cell_type": "code",
      "source": [
        "# Compile and especific the parameters to be trained\n",
        "model.compile(optimizer='adam',loss='binary_crossentropy',metrics=['accuracy'])"
      ],
      "metadata": {
        "id": "w1CY61oSFFsn"
      },
      "execution_count": 32,
      "outputs": []
    },
    {
      "cell_type": "code",
      "source": [
        "# Train the model\n",
        "history = model.fit(X_train, y_train, epochs=3, batch_size= 100)"
      ],
      "metadata": {
        "colab": {
          "base_uri": "https://localhost:8080/"
        },
        "id": "YoTGwj_TFfjN",
        "outputId": "aab99201-87f1-4968-9a94-2247a1982abf"
      },
      "execution_count": 33,
      "outputs": [
        {
          "output_type": "stream",
          "name": "stdout",
          "text": [
            "Epoch 1/3\n",
            "1213/1213 [==============================] - 1620s 1s/step - loss: 0.4976 - accuracy: 0.7696\n",
            "Epoch 2/3\n",
            "1213/1213 [==============================] - 1589s 1s/step - loss: 0.4218 - accuracy: 0.8152\n",
            "Epoch 3/3\n",
            "1213/1213 [==============================] - 1588s 1s/step - loss: 0.4049 - accuracy: 0.8240\n"
          ]
        }
      ]
    },
    {
      "cell_type": "code",
      "source": [
        "plt.figure()\n",
        "fig, (ax1, ax2) = plt.subplots(1, 2)\n",
        "ax1.plot(range(len(history.history['loss'])),history.history['loss'] , marker='o')\n",
        "ax1.legend(['loss'])\n",
        "ax1.set_xlabel('Epochs')\n",
        "ax1.set_xticks(range(len(history.history)+1))\n",
        "ax1.set_ylabel('Loss')\n",
        "ax1.set_title('Loss Plot', fontsize=12)\n",
        "\n",
        "ax2.plot(range(len(history.history['accuracy'])),history.history['accuracy'] , marker='o', color='orange')\n",
        "ax2.legend(['accuracy'])\n",
        "ax2.set_xlabel('Epochs')\n",
        "ax2.set_xticks(range(len(history.history)+1))\n",
        "ax2.set_ylabel('Accuracy')\n",
        "ax2.set_title('Accuracy Plot', fontsize=12)\n",
        "\n",
        "plt.show()"
      ],
      "metadata": {
        "colab": {
          "base_uri": "https://localhost:8080/",
          "height": 490
        },
        "id": "wr-iq-u9Fm3n",
        "outputId": "0c513540-5aee-480f-e49b-f9251a634834"
      },
      "execution_count": 43,
      "outputs": [
        {
          "output_type": "display_data",
          "data": {
            "text/plain": [
              "<Figure size 640x480 with 0 Axes>"
            ]
          },
          "metadata": {}
        },
        {
          "output_type": "display_data",
          "data": {
            "text/plain": [
              "<Figure size 640x480 with 2 Axes>"
            ],
            "image/png": "[encoded data removed]"
          },
          "metadata": {}
        }
      ]
    },
    {
      "cell_type": "markdown",
      "source": [
        "# 8. Evaluate the model"
      ],
      "metadata": {
        "id": "j6eqwD5NZhzV"
      }
    },
    {
      "cell_type": "code",
      "source": [
        "print(\"X_test Dataset Evaluation\")\n",
        "result = model.evaluate(X_test, y_test)\n",
        "dict(zip(model.metrics_names, result))"
      ],
      "metadata": {
        "colab": {
          "base_uri": "https://localhost:8080/"
        },
        "id": "zAh9NHdnZhEe",
        "outputId": "2e5873c6-bb74-40cf-ce8d-9a7113cb514f"
      },
      "execution_count": 44,
      "outputs": [
        {
          "output_type": "stream",
          "name": "stdout",
          "text": [
            "X_test Dataset Evaluation\n",
            "947/947 [==============================] - 345s 363ms/step - loss: 0.3650 - accuracy: 0.8529\n"
          ]
        },
        {
          "output_type": "execute_result",
          "data": {
            "text/plain": [
              "{'loss': 0.3649978041648865, 'accuracy': 0.8528528809547424}"
            ]
          },
          "metadata": {},
          "execution_count": 44
        }
      ]
    },
    {
      "cell_type": "code",
      "source": [
        "print(\"X_valid Dataset Evaluation\")\n",
        "result = model.evaluate(X_valid, y_valid)\n",
        "dict(zip(model.metrics_names, result))"
      ],
      "metadata": {
        "colab": {
          "base_uri": "https://localhost:8080/"
        },
        "id": "QfKh16xRKveL",
        "outputId": "9fa8e39a-d35e-4ba2-b649-29636f49f528"
      },
      "execution_count": 45,
      "outputs": [
        {
          "output_type": "stream",
          "name": "stdout",
          "text": [
            "X_valid Dataset Evaluation\n",
            "316/316 [==============================] - 112s 355ms/step - loss: 0.3779 - accuracy: 0.8406\n"
          ]
        },
        {
          "output_type": "execute_result",
          "data": {
            "text/plain": [
              "{'loss': 0.3778619170188904, 'accuracy': 0.8406256437301636}"
            ]
          },
          "metadata": {},
          "execution_count": 45
        }
      ]
    },
    {
      "cell_type": "code",
      "source": [
        "print('Making Predictions on the Validation Dataset \\n')\n",
        "for question, prediction in zip(X_valid[:10], y_valid[:10]):\n",
        "    prediction_label = 1 if prediction >= 0.5 else 0\n",
        "    print(f\"Question: {question}\\n Target: {prediction} Prediction: {prediction_label}\\n{'-' * 50}\")"
      ],
      "metadata": {
        "colab": {
          "base_uri": "https://localhost:8080/"
        },
        "id": "CWhNm9Z_dEBe",
        "outputId": "029502cf-5e97-462d-ecc0-0c240ce77d02"
      },
      "execution_count": 49,
      "outputs": [
        {
          "output_type": "stream",
          "name": "stdout",
          "text": [
            "Making Predictions on the Validation Dataset \n",
            "\n",
            "Question: How does one handle the stress of founding a startup and having bipolar 2 disorder?\n",
            " Target: 0 Prediction: 0\n",
            "--------------------------------------------------\n",
            "Question: Why do Asians have so many scars compared to white people?\n",
            " Target: 1 Prediction: 1\n",
            "--------------------------------------------------\n",
            "Question: What are some ways to kill groundhogs?\n",
            " Target: 0 Prediction: 0\n",
            "--------------------------------------------------\n",
            "Question: Does one have to be connected to the internet in order to do word processing?\n",
            " Target: 0 Prediction: 0\n",
            "--------------------------------------------------\n",
            "Question: X is the name of an American rock band, a vaccine certificate issued by WHO and is used as part of a language-neutral system. What is X?\n",
            " Target: 0 Prediction: 0\n",
            "--------------------------------------------------\n",
            "Question: If you gave everyone in the United States, from Donald Trump to the penniless hobo, $1,000,000, then would anything actually happen? Would inflation just increase because everyone's wealth increased by the same amount?\n",
            " Target: 1 Prediction: 1\n",
            "--------------------------------------------------\n",
            "Question: Do most important Chinese values such as protecting virginity before marriage or unconditional respect towards elders make little sense to westerners?\n",
            " Target: 1 Prediction: 1\n",
            "--------------------------------------------------\n",
            "Question: In the same ecosystem, do grey, black and red squirrels compete with each other to eventually have a single dominant species?\n",
            " Target: 0 Prediction: 0\n",
            "--------------------------------------------------\n",
            "Question: Why am I sexually attracted to my own mother?\n",
            " Target: 1 Prediction: 1\n",
            "--------------------------------------------------\n",
            "Question: Why don't Jewish Americans stand up for African Americans? Is it because they now benefit from whiteness?\n",
            " Target: 1 Prediction: 1\n",
            "--------------------------------------------------\n"
          ]
        }
      ]
    },
    {
      "cell_type": "code",
      "source": [
        ":"
      ],
      "metadata": {
        "id": "zy8HfYWxdOJU"
      },
      "execution_count": null,
      "outputs": []
    }
  ]
}